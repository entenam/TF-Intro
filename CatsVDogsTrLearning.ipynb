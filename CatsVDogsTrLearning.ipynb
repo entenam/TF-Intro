{
  "nbformat": 4,
  "nbformat_minor": 0,
  "metadata": {
    "accelerator": "GPU",
    "colab": {
      "name": "C2_W3_Lab_1_transfer_learning.ipynb",
      "provenance": [],
      "collapsed_sections": [],
      "include_colab_link": true
    },
    "kernelspec": {
      "name": "python3",
      "display_name": "Python 3"
    },
    "language_info": {
      "name": "python"
    }
  },
  "cells": [
    {
      "cell_type": "markdown",
      "metadata": {
        "id": "view-in-github",
        "colab_type": "text"
      },
      "source": [
        "<a href=\"https://colab.research.google.com/github/entenam/TF-Intro/blob/main/CatsVDogsTrLearning.ipynb\" target=\"_parent\"><img src=\"https://colab.research.google.com/assets/colab-badge.svg\" alt=\"Open In Colab\"/></a>"
      ]
    },
    {
      "cell_type": "markdown",
      "metadata": {
        "id": "rX8mhOLljYeM"
      },
      "source": [
        "##### Copyright 2019 The TensorFlow Authors."
      ]
    },
    {
      "cell_type": "code",
      "metadata": {
        "cellView": "form",
        "id": "BZSlp3DAjdYf"
      },
      "source": [
        "#@title Licensed under the Apache License, Version 2.0 (the \"License\");\n",
        "# you may not use this file except in compliance with the License.\n",
        "# You may obtain a copy of the License at\n",
        "#\n",
        "# https://www.apache.org/licenses/LICENSE-2.0\n",
        "#\n",
        "# Unless required by applicable law or agreed to in writing, software\n",
        "# distributed under the License is distributed on an \"AS IS\" BASIS,\n",
        "# WITHOUT WARRANTIES OR CONDITIONS OF ANY KIND, either express or implied.\n",
        "# See the License for the specific language governing permissions and\n",
        "# limitations under the License."
      ],
      "execution_count": null,
      "outputs": []
    },
    {
      "cell_type": "markdown",
      "metadata": {
        "id": "Qvrr8pLRzJMV"
      },
      "source": [
        "**IMPORTANT NOTE:** This notebook is designed to run as a Colab. Click the button on top that says, `Open in Colab`, to run this notebook as a Colab. Running the notebook on your local machine might result in some of the code blocks throwing errors."
      ]
    },
    {
      "cell_type": "code",
      "metadata": {
        "id": "1xJZ5glPPCRz",
        "colab": {
          "base_uri": "https://localhost:8080/"
        },
        "outputId": "83fad905-bc62-44a7-ada8-0a3c31ac1f0a"
      },
      "source": [
        "import os\n",
        "\n",
        "import tensorflow as tf\n",
        "from tensorflow.keras import layers\n",
        "from tensorflow.keras import Model\n",
        "\n",
        "!wget --no-check-certificate \\\n",
        "    https://storage.googleapis.com/mledu-datasets/inception_v3_weights_tf_dim_ordering_tf_kernels_notop.h5 \\\n",
        "    -O /tmp/inception_v3_weights_tf_dim_ordering_tf_kernels_notop.h5\n",
        "  \n"
      ],
      "execution_count": 2,
      "outputs": [
        {
          "output_type": "stream",
          "name": "stdout",
          "text": [
            "--2022-01-19 06:12:54--  https://storage.googleapis.com/mledu-datasets/inception_v3_weights_tf_dim_ordering_tf_kernels_notop.h5\n",
            "Resolving storage.googleapis.com (storage.googleapis.com)... 74.125.135.128, 74.125.142.128, 74.125.195.128, ...\n",
            "Connecting to storage.googleapis.com (storage.googleapis.com)|74.125.135.128|:443... connected.\n",
            "HTTP request sent, awaiting response... 200 OK\n",
            "Length: 87910968 (84M) [application/x-hdf]\n",
            "Saving to: ‘/tmp/inception_v3_weights_tf_dim_ordering_tf_kernels_notop.h5’\n",
            "\n",
            "/tmp/inception_v3_w 100%[===================>]  83.84M   135MB/s    in 0.6s    \n",
            "\n",
            "2022-01-19 06:12:55 (135 MB/s) - ‘/tmp/inception_v3_weights_tf_dim_ordering_tf_kernels_notop.h5’ saved [87910968/87910968]\n",
            "\n"
          ]
        }
      ]
    },
    {
      "cell_type": "code",
      "metadata": {
        "id": "KsiBCpQ1VvPp",
        "colab": {
          "base_uri": "https://localhost:8080/"
        },
        "outputId": "3453767b-b802-4500-af64-113dc48a1f32"
      },
      "source": [
        "from tensorflow.keras.applications.inception_v3 import InceptionV3\n",
        "\n",
        "local_weights_file = '/tmp/inception_v3_weights_tf_dim_ordering_tf_kernels_notop.h5'\n",
        "\n",
        "pre_trained_model = InceptionV3(input_shape = (150, 150, 3), \n",
        "                                include_top = False, \n",
        "                                weights = None)\n",
        "\n",
        "pre_trained_model.load_weights(local_weights_file)\n",
        "\n",
        "for layer in pre_trained_model.layers:\n",
        "  layer.trainable = False\n",
        "  \n",
        "# pre_trained_model.summary()\n",
        "\n",
        "last_layer = pre_trained_model.get_layer('mixed7')\n",
        "print('last layer output shape: ', last_layer.output_shape)\n",
        "last_output = last_layer.output"
      ],
      "execution_count": 3,
      "outputs": [
        {
          "output_type": "stream",
          "name": "stdout",
          "text": [
            "last layer output shape:  (None, 7, 7, 768)\n"
          ]
        }
      ]
    },
    {
      "cell_type": "code",
      "metadata": {
        "id": "BMXb913pbvFg"
      },
      "source": [
        "from tensorflow.keras.optimizers import RMSprop\n",
        "\n",
        "# Flatten the output layer to 1 dimension\n",
        "x = layers.Flatten()(last_output)\n",
        "# Add a fully connected layer with 1,024 hidden units and ReLU activation\n",
        "x = layers.Dense(1024, activation='relu')(x)\n",
        "# Add a dropout rate of 0.2\n",
        "x = layers.Dropout(0.2)(x)                  \n",
        "# Add a final sigmoid layer for classification\n",
        "x = layers.Dense  (1, activation='sigmoid')(x)           \n",
        "\n",
        "model = Model( pre_trained_model.input, x) \n",
        "\n",
        "model.compile(optimizer = RMSprop(learning_rate=0.0001), \n",
        "              loss = 'binary_crossentropy', \n",
        "              metrics = ['accuracy'])\n"
      ],
      "execution_count": 4,
      "outputs": []
    },
    {
      "cell_type": "code",
      "metadata": {
        "id": "O4s8HckqGlnb",
        "colab": {
          "base_uri": "https://localhost:8080/"
        },
        "outputId": "c701945e-f708-43bc-d511-a164c6882f42"
      },
      "source": [
        "from tensorflow.keras.preprocessing.image import ImageDataGenerator\n",
        "\n",
        "import os\n",
        "import zipfile\n",
        "\n",
        "\n",
        "# Define our example directories and files\n",
        "base_dir = '/content/drive/MyDrive/AI Basics with Tensorflow/CATS-v-DOGS/cats-v-dogs'\n",
        "\n",
        "train_dir = os.path.join( base_dir, 'training')\n",
        "validation_dir = os.path.join( base_dir, 'testing')\n",
        "\n",
        "\n",
        "train_cats_dir = os.path.join(train_dir, 'cats') # Directory with our training cat pictures\n",
        "train_dogs_dir = os.path.join(train_dir, 'dogs') # Directory with our training dog pictures\n",
        "validation_cats_dir = os.path.join(validation_dir, 'cats') # Directory with our validation cat pictures\n",
        "validation_dogs_dir = os.path.join(validation_dir, 'dogs')# Directory with our validation dog pictures\n",
        "\n",
        "train_cat_fnames = os.listdir(train_cats_dir)\n",
        "train_dog_fnames = os.listdir(train_dogs_dir)\n",
        "\n",
        "print(train_cats_dir)"
      ],
      "execution_count": 5,
      "outputs": [
        {
          "output_type": "stream",
          "name": "stdout",
          "text": [
            "/content/drive/MyDrive/AI Basics with Tensorflow/CATS-v-DOGS/cats-v-dogs/training/cats\n"
          ]
        }
      ]
    },
    {
      "cell_type": "code",
      "source": [
        "# Add our data-augmentation parameters to ImageDataGenerator\n",
        "train_datagen = ImageDataGenerator(rescale = 1./255.,\n",
        "                                   rotation_range = 40,\n",
        "                                   width_shift_range = 0.2,\n",
        "                                   height_shift_range = 0.2,\n",
        "                                   shear_range = 0.2,\n",
        "                                   zoom_range = 0.2,\n",
        "                                   horizontal_flip = True)\n",
        "\n",
        "# Note that the validation data should not be augmented!\n",
        "test_datagen = ImageDataGenerator( rescale = 1.0/255. )\n",
        "\n",
        "# Flow training images in batches of 20 using train_datagen generator\n",
        "train_generator = train_datagen.flow_from_directory(train_dir,\n",
        "                                                    batch_size = 20,\n",
        "                                                    class_mode = 'binary', \n",
        "                                                    target_size = (150, 150))     \n",
        "\n",
        "# Flow validation images in batches of 20 using test_datagen generator\n",
        "validation_generator =  test_datagen.flow_from_directory( validation_dir,\n",
        "                                                          batch_size  = 20,\n",
        "                                                          class_mode  = 'binary', \n",
        "                                                          target_size = (150, 150))"
      ],
      "metadata": {
        "colab": {
          "base_uri": "https://localhost:8080/"
        },
        "id": "tlWBHNv4FDIx",
        "outputId": "710de2fd-6ef2-4b8a-81d7-213b12b81043"
      },
      "execution_count": 6,
      "outputs": [
        {
          "output_type": "stream",
          "name": "stdout",
          "text": [
            "Found 22475 images belonging to 2 classes.\n",
            "Found 2523 images belonging to 2 classes.\n"
          ]
        }
      ]
    },
    {
      "cell_type": "code",
      "source": [
        "#Save Model Checkpoint to Google Drive During Training\n",
        "checkpoint_path = \"/content/drive/My Drive/AI Basics with Tensorflow/Cats-v-DogsTrLearning/cp.ckpt\"\n",
        "checkpoint_dir = os.path.dirname(checkpoint_path)\n",
        "\n",
        "# Create a callback that saves the model's weights\n",
        "cp_callback = tf.keras.callbacks.ModelCheckpoint(filepath=checkpoint_path,\n",
        "                                                 save_weights_only=True,\n",
        "                                                 verbose=1)"
      ],
      "metadata": {
        "id": "9UUEag4ZBjrQ"
      },
      "execution_count": 7,
      "outputs": []
    },
    {
      "cell_type": "code",
      "metadata": {
        "id": "Blhq2MAUeyGA",
        "colab": {
          "base_uri": "https://localhost:8080/"
        },
        "outputId": "69d6fee4-9260-4563-e402-776bce83d128"
      },
      "source": [
        "history = model.fit(\n",
        "            train_generator,\n",
        "            validation_data = validation_generator,\n",
        "            steps_per_epoch = 100,\n",
        "            epochs = 20,\n",
        "            validation_steps = 50,\n",
        "            verbose = 2,\n",
        "            callbacks = [cp_callback])"
      ],
      "execution_count": 12,
      "outputs": [
        {
          "output_type": "stream",
          "name": "stdout",
          "text": [
            "Epoch 1/20\n",
            "\n",
            "Epoch 00001: saving model to /content/drive/My Drive/AI Basics with Tensorflow/Cats-v-DogsTrLearning/cp.ckpt\n",
            "100/100 - 925s - loss: 0.3682 - accuracy: 0.8520 - val_loss: 0.1203 - val_accuracy: 0.9470 - 925s/epoch - 9s/step\n",
            "Epoch 2/20\n",
            "\n",
            "Epoch 00002: saving model to /content/drive/My Drive/AI Basics with Tensorflow/Cats-v-DogsTrLearning/cp.ckpt\n",
            "100/100 - 745s - loss: 0.2299 - accuracy: 0.9145 - val_loss: 0.1100 - val_accuracy: 0.9550 - 745s/epoch - 7s/step\n",
            "Epoch 3/20\n",
            "\n",
            "Epoch 00003: saving model to /content/drive/My Drive/AI Basics with Tensorflow/Cats-v-DogsTrLearning/cp.ckpt\n",
            "100/100 - 628s - loss: 0.2248 - accuracy: 0.9135 - val_loss: 0.0740 - val_accuracy: 0.9680 - 628s/epoch - 6s/step\n",
            "Epoch 4/20\n"
          ]
        },
        {
          "output_type": "stream",
          "name": "stderr",
          "text": [
            "/usr/local/lib/python3.7/dist-packages/PIL/TiffImagePlugin.py:770: UserWarning: Possibly corrupt EXIF data.  Expecting to read 32 bytes but only got 0. Skipping tag 270\n",
            "  \" Skipping tag %s\" % (size, len(data), tag)\n",
            "/usr/local/lib/python3.7/dist-packages/PIL/TiffImagePlugin.py:770: UserWarning: Possibly corrupt EXIF data.  Expecting to read 5 bytes but only got 0. Skipping tag 271\n",
            "  \" Skipping tag %s\" % (size, len(data), tag)\n",
            "/usr/local/lib/python3.7/dist-packages/PIL/TiffImagePlugin.py:770: UserWarning: Possibly corrupt EXIF data.  Expecting to read 8 bytes but only got 0. Skipping tag 272\n",
            "  \" Skipping tag %s\" % (size, len(data), tag)\n",
            "/usr/local/lib/python3.7/dist-packages/PIL/TiffImagePlugin.py:770: UserWarning: Possibly corrupt EXIF data.  Expecting to read 8 bytes but only got 0. Skipping tag 282\n",
            "  \" Skipping tag %s\" % (size, len(data), tag)\n",
            "/usr/local/lib/python3.7/dist-packages/PIL/TiffImagePlugin.py:770: UserWarning: Possibly corrupt EXIF data.  Expecting to read 8 bytes but only got 0. Skipping tag 283\n",
            "  \" Skipping tag %s\" % (size, len(data), tag)\n",
            "/usr/local/lib/python3.7/dist-packages/PIL/TiffImagePlugin.py:770: UserWarning: Possibly corrupt EXIF data.  Expecting to read 20 bytes but only got 0. Skipping tag 306\n",
            "  \" Skipping tag %s\" % (size, len(data), tag)\n",
            "/usr/local/lib/python3.7/dist-packages/PIL/TiffImagePlugin.py:770: UserWarning: Possibly corrupt EXIF data.  Expecting to read 48 bytes but only got 0. Skipping tag 532\n",
            "  \" Skipping tag %s\" % (size, len(data), tag)\n",
            "/usr/local/lib/python3.7/dist-packages/PIL/TiffImagePlugin.py:788: UserWarning: Corrupt EXIF data.  Expecting to read 2 bytes but only got 0. \n",
            "  warnings.warn(str(msg))\n"
          ]
        },
        {
          "output_type": "stream",
          "name": "stdout",
          "text": [
            "\n",
            "Epoch 00004: saving model to /content/drive/My Drive/AI Basics with Tensorflow/Cats-v-DogsTrLearning/cp.ckpt\n",
            "100/100 - 547s - loss: 0.2195 - accuracy: 0.9180 - val_loss: 0.0963 - val_accuracy: 0.9660 - 547s/epoch - 5s/step\n",
            "Epoch 5/20\n",
            "\n",
            "Epoch 00005: saving model to /content/drive/My Drive/AI Basics with Tensorflow/Cats-v-DogsTrLearning/cp.ckpt\n",
            "100/100 - 496s - loss: 0.2004 - accuracy: 0.9313 - val_loss: 0.1242 - val_accuracy: 0.9560 - 496s/epoch - 5s/step\n",
            "Epoch 6/20\n",
            "\n",
            "Epoch 00006: saving model to /content/drive/My Drive/AI Basics with Tensorflow/Cats-v-DogsTrLearning/cp.ckpt\n",
            "100/100 - 445s - loss: 0.1832 - accuracy: 0.9315 - val_loss: 0.2130 - val_accuracy: 0.9400 - 445s/epoch - 4s/step\n",
            "Epoch 7/20\n",
            "\n",
            "Epoch 00007: saving model to /content/drive/My Drive/AI Basics with Tensorflow/Cats-v-DogsTrLearning/cp.ckpt\n",
            "100/100 - 390s - loss: 0.2205 - accuracy: 0.9223 - val_loss: 0.0688 - val_accuracy: 0.9690 - 390s/epoch - 4s/step\n",
            "Epoch 8/20\n",
            "\n",
            "Epoch 00008: saving model to /content/drive/My Drive/AI Basics with Tensorflow/Cats-v-DogsTrLearning/cp.ckpt\n",
            "100/100 - 342s - loss: 0.2212 - accuracy: 0.9213 - val_loss: 0.0977 - val_accuracy: 0.9640 - 342s/epoch - 3s/step\n",
            "Epoch 9/20\n",
            "\n",
            "Epoch 00009: saving model to /content/drive/My Drive/AI Basics with Tensorflow/Cats-v-DogsTrLearning/cp.ckpt\n",
            "100/100 - 336s - loss: 0.1966 - accuracy: 0.9293 - val_loss: 0.1003 - val_accuracy: 0.9590 - 336s/epoch - 3s/step\n",
            "Epoch 10/20\n",
            "\n",
            "Epoch 00010: saving model to /content/drive/My Drive/AI Basics with Tensorflow/Cats-v-DogsTrLearning/cp.ckpt\n",
            "100/100 - 272s - loss: 0.1799 - accuracy: 0.9310 - val_loss: 0.1153 - val_accuracy: 0.9650 - 272s/epoch - 3s/step\n",
            "Epoch 11/20\n",
            "\n",
            "Epoch 00011: saving model to /content/drive/My Drive/AI Basics with Tensorflow/Cats-v-DogsTrLearning/cp.ckpt\n",
            "100/100 - 270s - loss: 0.1945 - accuracy: 0.9290 - val_loss: 0.0819 - val_accuracy: 0.9730 - 270s/epoch - 3s/step\n",
            "Epoch 12/20\n",
            "\n",
            "Epoch 00012: saving model to /content/drive/My Drive/AI Basics with Tensorflow/Cats-v-DogsTrLearning/cp.ckpt\n",
            "100/100 - 254s - loss: 0.1794 - accuracy: 0.9409 - val_loss: 0.0737 - val_accuracy: 0.9730 - 254s/epoch - 3s/step\n",
            "Epoch 13/20\n",
            "\n",
            "Epoch 00013: saving model to /content/drive/My Drive/AI Basics with Tensorflow/Cats-v-DogsTrLearning/cp.ckpt\n",
            "100/100 - 229s - loss: 0.2012 - accuracy: 0.9280 - val_loss: 0.1090 - val_accuracy: 0.9680 - 229s/epoch - 2s/step\n",
            "Epoch 14/20\n",
            "\n",
            "Epoch 00014: saving model to /content/drive/My Drive/AI Basics with Tensorflow/Cats-v-DogsTrLearning/cp.ckpt\n",
            "100/100 - 215s - loss: 0.1797 - accuracy: 0.9350 - val_loss: 0.1443 - val_accuracy: 0.9550 - 215s/epoch - 2s/step\n",
            "Epoch 15/20\n",
            "\n",
            "Epoch 00015: saving model to /content/drive/My Drive/AI Basics with Tensorflow/Cats-v-DogsTrLearning/cp.ckpt\n",
            "100/100 - 184s - loss: 0.1949 - accuracy: 0.9325 - val_loss: 0.1134 - val_accuracy: 0.9610 - 184s/epoch - 2s/step\n",
            "Epoch 16/20\n",
            "\n",
            "Epoch 00016: saving model to /content/drive/My Drive/AI Basics with Tensorflow/Cats-v-DogsTrLearning/cp.ckpt\n",
            "100/100 - 180s - loss: 0.1668 - accuracy: 0.9404 - val_loss: 0.0975 - val_accuracy: 0.9620 - 180s/epoch - 2s/step\n",
            "Epoch 17/20\n",
            "\n",
            "Epoch 00017: saving model to /content/drive/My Drive/AI Basics with Tensorflow/Cats-v-DogsTrLearning/cp.ckpt\n",
            "100/100 - 161s - loss: 0.1896 - accuracy: 0.9345 - val_loss: 0.1132 - val_accuracy: 0.9550 - 161s/epoch - 2s/step\n",
            "Epoch 18/20\n",
            "\n",
            "Epoch 00018: saving model to /content/drive/My Drive/AI Basics with Tensorflow/Cats-v-DogsTrLearning/cp.ckpt\n",
            "100/100 - 150s - loss: 0.1860 - accuracy: 0.9380 - val_loss: 0.1478 - val_accuracy: 0.9490 - 150s/epoch - 2s/step\n",
            "Epoch 19/20\n",
            "\n",
            "Epoch 00019: saving model to /content/drive/My Drive/AI Basics with Tensorflow/Cats-v-DogsTrLearning/cp.ckpt\n",
            "100/100 - 146s - loss: 0.1822 - accuracy: 0.9375 - val_loss: 0.0623 - val_accuracy: 0.9760 - 146s/epoch - 1s/step\n",
            "Epoch 20/20\n",
            "\n",
            "Epoch 00020: saving model to /content/drive/My Drive/AI Basics with Tensorflow/Cats-v-DogsTrLearning/cp.ckpt\n",
            "100/100 - 128s - loss: 0.1727 - accuracy: 0.9415 - val_loss: 0.1312 - val_accuracy: 0.9580 - 128s/epoch - 1s/step\n"
          ]
        }
      ]
    },
    {
      "cell_type": "code",
      "metadata": {
        "id": "C2Fp6Se9rKuL"
      },
      "source": [
        "import matplotlib.pyplot as plt\n",
        "acc = history.history['accuracy']\n",
        "val_acc = history.history['val_accuracy']\n",
        "loss = history.history['loss']\n",
        "val_loss = history.history['val_loss']\n",
        "\n",
        "epochs = range(len(acc))\n",
        "\n",
        "plt.plot(epochs, acc, 'r', label='Training accuracy')\n",
        "plt.plot(epochs, val_acc, 'b', label='Validation accuracy')\n",
        "plt.title('Training and validation accuracy')\n",
        "plt.legend(loc=0)\n",
        "plt.figure()\n",
        "\n",
        "\n",
        "plt.show()"
      ],
      "execution_count": null,
      "outputs": []
    },
    {
      "cell_type": "code",
      "source": [
        "model.load_weights(checkpoint_path)\n",
        "model.evaluate(validation_generator)"
      ],
      "metadata": {
        "id": "Xdk9EkDdrb9u"
      },
      "execution_count": null,
      "outputs": []
    }
  ]
}