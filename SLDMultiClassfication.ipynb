{
  "nbformat": 4,
  "nbformat_minor": 0,
  "metadata": {
    "colab": {
      "name": "SLDMultiClassfication.ipynb",
      "provenance": [],
      "collapsed_sections": [],
      "include_colab_link": true
    },
    "kernelspec": {
      "display_name": "Python 3",
      "language": "python",
      "name": "python3"
    },
    "language_info": {
      "codemirror_mode": {
        "name": "ipython",
        "version": 3
      },
      "file_extension": ".py",
      "mimetype": "text/x-python",
      "name": "python",
      "nbconvert_exporter": "python",
      "pygments_lexer": "ipython3",
      "version": "3.8.5"
    }
  },
  "cells": [
    {
      "cell_type": "markdown",
      "metadata": {
        "id": "view-in-github",
        "colab_type": "text"
      },
      "source": [
        "<a href=\"https://colab.research.google.com/github/entenam/TF-Intro/blob/main/SLDMultiClassfication.ipynb\" target=\"_parent\"><img src=\"https://colab.research.google.com/assets/colab-badge.svg\" alt=\"Open In Colab\"/></a>"
      ]
    },
    {
      "cell_type": "code",
      "metadata": {
        "id": "zX4Kg8DUTKWO"
      },
      "source": [
        "#@title Licensed under the Apache License, Version 2.0 (the \"License\");\n",
        "# you may not use this file except in compliance with the License.\n",
        "# You may obtain a copy of the License at\n",
        "#\n",
        "# https://www.apache.org/licenses/LICENSE-2.0\n",
        "#\n",
        "# Unless required by applicable law or agreed to in writing, software\n",
        "# distributed under the License is distributed on an \"AS IS\" BASIS,\n",
        "# WITHOUT WARRANTIES OR CONDITIONS OF ANY KIND, either express or implied.\n",
        "# See the License for the specific language governing permissions and\n",
        "# limitations under the License."
      ],
      "execution_count": 20,
      "outputs": []
    },
    {
      "cell_type": "markdown",
      "metadata": {
        "id": "KGYHjVbZHv1G"
      },
      "source": [
        "**IMPORTANT NOTE:** This notebook is designed to run as a Colab. Click the button on top that says, `Open in Colab`, to run this notebook as a Colab. Running the notebook on your local machine might result in some of the code blocks throwing errors."
      ]
    },
    {
      "cell_type": "code",
      "metadata": {
        "id": "wYtuKeK0dImp"
      },
      "source": [
        "import csv\n",
        "import numpy as np\n",
        "import tensorflow as tf\n",
        "from tensorflow.keras.preprocessing.image import ImageDataGenerator\n",
        "from google.colab import files"
      ],
      "execution_count": 21,
      "outputs": []
    },
    {
      "cell_type": "code",
      "metadata": {
        "id": "4kxw-_rmcnVu",
        "outputId": "5907b3ce-d165-4212-fea8-8dec0a585651",
        "colab": {
          "base_uri": "https://localhost:8080/"
        }
      },
      "source": [
        "# sign_mnist_train.csv\n",
        "!gdown --id 1z0DkA9BytlLxO1C0BAWzknLyQmZAp0HR -O '/content/drive/MyDrive/AI Basics with Tensorflow/SLDMultiClass/sign_mnist_train.csv'\n",
        "# sign_mnist_test.csv\n",
        "!gdown --id 1z1BIj4qmri59GWBG4ivMNFtpZ4AXIbzg -O '/content/drive/MyDrive/AI Basics with Tensorflow/SLDMultiClass/sign_mnist_test.csv'\n",
        "\n",
        "def get_data(filename):\n",
        "  # You will need to write code that will read the file passed\n",
        "  # into this function. The first line contains the column headers\n",
        "  # so you should ignore it\n",
        "  # Each successive line contians 785 comma separated values between 0 and 255\n",
        "  # The first value is the label\n",
        "  # The rest are the pixel values for that picture\n",
        "  # The function will return 2 np.array types. One with all the labels\n",
        "  # One with all the images\n",
        "  #\n",
        "  # Tips: \n",
        "  # If you read a full line (as 'row') then row[0] has the label\n",
        "  # and row[1:785] has the 784 pixel values\n",
        "  # Take a look at np.array_split to turn the 784 pixels into 28x28\n",
        "  # You are reading in strings, but need the values to be floats\n",
        "  # Check out np.array().astype for a conversion\n",
        "    with open(filename) as training_file:\n",
        "      ### START CODE HERE\n",
        "      reader = csv.reader(training_file, delimiter = ',')\n",
        "      index = 0\n",
        "      tmpImages = []\n",
        "      tmpLabels = []\n",
        "      for row in reader:\n",
        "        if index!= 0:\n",
        "          tmpLabels.append(row[0])\n",
        "          image_data = row[1:785]\n",
        "          image_data_array = np.array_split(image_data, 28)\n",
        "          tmpImages.append(image_data_array)\n",
        "        index+=1\n",
        "      labels = np.array(tmpLabels).astype('float')\n",
        "      images = np.array(tmpImages).astype('float')\n",
        "      ### END CODE HERE\n",
        "    return images, labels\n",
        "\n",
        "#training_labels = get_data('./sign_mnist_train.csv')\n",
        "training_images, training_labels = get_data('./sign_mnist_train.csv')\n",
        "testing_images, testing_labels = get_data('./sign_mnist_test.csv')\n",
        "\n",
        "# Keep these\n",
        "print(training_images.shape)\n",
        "print(training_labels.shape)\n",
        "print(testing_images.shape)\n",
        "print(testing_labels.shape)\n",
        "\n",
        "# Their output should be:\n",
        "# (27455, 28, 28)\n",
        "# (27455,)\n",
        "# (7172, 28, 28)\n",
        "# (7172,)"
      ],
      "execution_count": 22,
      "outputs": [
        {
          "output_type": "stream",
          "name": "stdout",
          "text": [
            "Downloading...\n",
            "From: https://drive.google.com/uc?id=1z0DkA9BytlLxO1C0BAWzknLyQmZAp0HR\n",
            "To: /content/drive/MyDrive/AI Basics with Tensorflow/SLDMultiClass/sign_mnist_train.csv\n",
            "100% 83.3M/83.3M [00:00<00:00, 102MB/s] \n",
            "Downloading...\n",
            "From: https://drive.google.com/uc?id=1z1BIj4qmri59GWBG4ivMNFtpZ4AXIbzg\n",
            "To: /content/drive/MyDrive/AI Basics with Tensorflow/SLDMultiClass/sign_mnist_test.csv\n",
            "100% 21.8M/21.8M [00:00<00:00, 99.3MB/s]\n",
            "(27455, 28, 28)\n",
            "(27455,)\n",
            "(7172, 28, 28)\n",
            "(7172,)\n"
          ]
        }
      ]
    },
    {
      "cell_type": "code",
      "metadata": {
        "id": "awoqRpyZdQkD",
        "outputId": "16b8b286-8c6c-42da-b0df-dd6a032f4dcd",
        "colab": {
          "base_uri": "https://localhost:8080/"
        }
      },
      "source": [
        "# In this section you will have to add another dimension to the data\n",
        "# So, for example, if your array is (10000, 28, 28)\n",
        "# You will need to make it (10000, 28, 28, 1)\n",
        "# Hint: np.expand_dims\n",
        "\n",
        "training_images = np.expand_dims(training_images, axis = 3) ### YOUR CODE HERE\n",
        "testing_images = np.expand_dims(testing_images, axis = 3) ### YOUR CODE HERE\n",
        "\n",
        "train_datagen = ImageDataGenerator(\n",
        "    rescale = 1.0/255.0,\n",
        "    rotation_range = 40,\n",
        "    shear_range = 0.2,\n",
        "    width_shift_range = 0.2,\n",
        "    height_shift_range = 0.2,\n",
        "    horizontal_flip = True,\n",
        "    zoom_range = 0.2,\n",
        "    fill_mode = 'nearest'\n",
        ")\n",
        "\n",
        "validation_datagen = ImageDataGenerator(\n",
        "    ### YOUR CODE HERE\n",
        "    rescale = 1.0/255.0\n",
        "    )\n",
        "\n",
        "# Keep These\n",
        "print(training_images.shape)\n",
        "print(testing_images.shape)\n",
        "    \n",
        "# Their output should be:\n",
        "# (27455, 28, 28, 1)\n",
        "# (7172, 28, 28, 1)"
      ],
      "execution_count": 23,
      "outputs": [
        {
          "output_type": "stream",
          "name": "stdout",
          "text": [
            "(27455, 28, 28, 1)\n",
            "(7172, 28, 28, 1)\n"
          ]
        }
      ]
    },
    {
      "cell_type": "code",
      "metadata": {
        "id": "Rmb7S32cgRqS"
      },
      "source": [
        "# Define the model\n",
        "# Use no more than 2 Conv2D and 2 MaxPooling2D\n",
        "model = tf.keras.models.Sequential([\n",
        "    ### START CODE HERE\n",
        "    tf.keras.layers.Conv2D(64, (3,3), activation='relu', input_shape = (28,28,1)),\n",
        "    tf.keras.layers.MaxPool2D(2,2),\n",
        "    tf.keras.layers.Conv2D(64, (3,3,), activation='relu'),\n",
        "    tf.keras.layers.MaxPool2D(2,2),                                \n",
        "    tf.keras.layers.Flatten(),\n",
        "    tf.keras.layers.Dense(128, activation='relu'),\n",
        "    tf.keras.layers.Dense(26, activation='softmax')\n",
        "    \n",
        "    ### END CODE HERE\n",
        "])\n",
        "\n",
        "model.compile(loss = 'sparse_categorical_crossentropy', optimizer='rmsprop', metrics=['accuracy'])"
      ],
      "execution_count": 31,
      "outputs": []
    },
    {
      "cell_type": "code",
      "source": [
        "# Train the Model\n",
        "history = model.fit(train_datagen.flow(\n",
        "    training_images, training_labels, batch_size=32),\n",
        "    steps_per_epoch = len(training_images)/32,\n",
        "    epochs = 15,\n",
        "    validation_data = validation_datagen.flow(testing_images,\n",
        "                        testing_labels, batch_size=32),\n",
        "                        validation_steps = len(testing_images)/32)\n",
        "\n",
        "model.save(\"/content/drive/MyDrive/AI Basics with Tensorflow/SLDMultiClass/SL.h5\")\n",
        "\n",
        "model.evaluate(testing_images, testing_labels)\n",
        "\n",
        "# The output from model.evaluate should be close to:\n",
        "# [6.92426086682151, 0.56609035]"
      ],
      "metadata": {
        "id": "2yPINu6-9GM5",
        "colab": {
          "base_uri": "https://localhost:8080/"
        },
        "outputId": "608b3c67-a6e3-4d7e-a912-fb58c41b3e01"
      },
      "execution_count": 32,
      "outputs": [
        {
          "output_type": "stream",
          "name": "stdout",
          "text": [
            "Epoch 1/15\n",
            "857/857 [==============================] - 61s 70ms/step - loss: 2.7836 - accuracy: 0.1628 - val_loss: 2.0487 - val_accuracy: 0.2907\n",
            "Epoch 2/15\n",
            "857/857 [==============================] - 57s 67ms/step - loss: 2.1028 - accuracy: 0.3446 - val_loss: 1.4848 - val_accuracy: 0.4881\n",
            "Epoch 3/15\n",
            "857/857 [==============================] - 59s 68ms/step - loss: 1.6741 - accuracy: 0.4714 - val_loss: 0.8762 - val_accuracy: 0.7294\n",
            "Epoch 4/15\n",
            "857/857 [==============================] - 59s 69ms/step - loss: 1.3653 - accuracy: 0.5594 - val_loss: 0.7351 - val_accuracy: 0.7552\n",
            "Epoch 5/15\n",
            "857/857 [==============================] - 58s 67ms/step - loss: 1.1731 - accuracy: 0.6200 - val_loss: 0.5562 - val_accuracy: 0.8182\n",
            "Epoch 6/15\n",
            "857/857 [==============================] - 57s 66ms/step - loss: 1.0294 - accuracy: 0.6601 - val_loss: 0.5866 - val_accuracy: 0.7722\n",
            "Epoch 7/15\n",
            "857/857 [==============================] - 57s 66ms/step - loss: 0.9143 - accuracy: 0.7027 - val_loss: 0.4679 - val_accuracy: 0.8307\n",
            "Epoch 8/15\n",
            "857/857 [==============================] - 57s 66ms/step - loss: 0.8149 - accuracy: 0.7287 - val_loss: 0.5195 - val_accuracy: 0.8105\n",
            "Epoch 9/15\n",
            "857/857 [==============================] - 57s 66ms/step - loss: 0.7600 - accuracy: 0.7489 - val_loss: 0.3762 - val_accuracy: 0.8646\n",
            "Epoch 10/15\n",
            "857/857 [==============================] - 59s 69ms/step - loss: 0.6968 - accuracy: 0.7740 - val_loss: 0.2750 - val_accuracy: 0.9018\n",
            "Epoch 11/15\n",
            "857/857 [==============================] - 58s 67ms/step - loss: 0.6577 - accuracy: 0.7815 - val_loss: 0.3336 - val_accuracy: 0.8635\n",
            "Epoch 12/15\n",
            "857/857 [==============================] - 58s 67ms/step - loss: 0.6140 - accuracy: 0.7970 - val_loss: 0.3051 - val_accuracy: 0.8924\n",
            "Epoch 13/15\n",
            "857/857 [==============================] - 57s 66ms/step - loss: 0.5798 - accuracy: 0.8078 - val_loss: 0.2329 - val_accuracy: 0.9064\n",
            "Epoch 14/15\n",
            "857/857 [==============================] - 57s 67ms/step - loss: 0.5477 - accuracy: 0.8208 - val_loss: 0.2561 - val_accuracy: 0.8979\n",
            "Epoch 15/15\n",
            "857/857 [==============================] - 56s 65ms/step - loss: 0.5191 - accuracy: 0.8298 - val_loss: 0.3307 - val_accuracy: 0.8882\n",
            "225/225 [==============================] - 3s 15ms/step - loss: 178.6335 - accuracy: 0.7419\n"
          ]
        },
        {
          "output_type": "execute_result",
          "data": {
            "text/plain": [
              "[178.6334686279297, 0.7419130206108093]"
            ]
          },
          "metadata": {},
          "execution_count": 32
        }
      ]
    },
    {
      "cell_type": "code",
      "metadata": {
        "id": "_Q3Zpr46dsij",
        "colab": {
          "base_uri": "https://localhost:8080/",
          "height": 545
        },
        "outputId": "716778e0-f8d9-439e-f919-d45310c7a538"
      },
      "source": [
        "# Plot the chart for accuracy and loss on both training and validation\n",
        "\n",
        "import matplotlib.pyplot as plt\n",
        "acc = history.history['accuracy']### YOUR CODE HERE\n",
        "val_acc = history.history['val_accuracy']### YOUR CODE HERE\n",
        "loss = history.history['loss']### YOUR CODE HERE\n",
        "val_loss = history.history['val_loss']### YOUR CODE HERE\n",
        "\n",
        "epochs = range(len(acc))\n",
        "\n",
        "plt.plot(epochs, acc, 'r', label='Training accuracy')\n",
        "plt.plot(epochs, val_acc, 'b', label='Validation accuracy')\n",
        "plt.title('Training and validation accuracy')\n",
        "plt.legend()\n",
        "plt.figure()\n",
        "\n",
        "plt.plot(epochs, loss, 'r', label='Training Loss')\n",
        "plt.plot(epochs, val_loss, 'b', label='Validation Loss')\n",
        "plt.title('Training and validation loss')\n",
        "plt.legend()\n",
        "\n",
        "plt.show()"
      ],
      "execution_count": 36,
      "outputs": [
        {
          "output_type": "display_data",
          "data": {
            "image/png": "[encoded data removed]",
            "text/plain": [
              "<Figure size 432x288 with 1 Axes>"
            ]
          },
          "metadata": {
            "needs_background": "light"
          }
        },
        {
          "output_type": "display_data",
          "data": {
            "image/png": "[encoded data removed]",
            "text/plain": [
              "<Figure size 432x288 with 1 Axes>"
            ]
          },
          "metadata": {
            "needs_background": "light"
          }
        }
      ]
    }
  ]
}