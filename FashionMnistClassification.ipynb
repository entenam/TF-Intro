{
  "nbformat": 4,
  "nbformat_minor": 0,
  "metadata": {
    "colab": {
      "name": "FashionMnistClassification.ipynb",
      "provenance": [],
      "authorship_tag": "ABX9TyNfK/k2Rqg5r7WHWDcAh9YJ",
      "include_colab_link": true
    },
    "kernelspec": {
      "name": "python3",
      "display_name": "Python 3"
    },
    "language_info": {
      "name": "python"
    }
  },
  "cells": [
    {
      "cell_type": "markdown",
      "metadata": {
        "id": "view-in-github",
        "colab_type": "text"
      },
      "source": [
        "<a href=\"https://colab.research.google.com/github/entenam/TF-Intro/blob/main/FashionMnistClassification.ipynb\" target=\"_parent\"><img src=\"https://colab.research.google.com/assets/colab-badge.svg\" alt=\"Open In Colab\"/></a>"
      ]
    },
    {
      "cell_type": "code",
      "source": [
        "## Importing necessary library\n",
        "\n",
        "import os\n",
        "import torch\n",
        "\n",
        "import tensorflow as tf\n",
        "import matplotlib.pyplot as plt\n",
        "import numpy as np"
      ],
      "metadata": {
        "id": "mHe6C9nb0eGM"
      },
      "execution_count": 86,
      "outputs": []
    },
    {
      "cell_type": "code",
      "source": [
        "#Custom Callback for Stopping Training at 90% Accuracy\n",
        "\n",
        "class myCallback(tf.keras.callbacks.Callback):\n",
        "  def on_epoch_end(self, epoch, logs={}):\n",
        "    if(logs.get('accuracy')>0.9):\n",
        "      print(\"\\nReached 90% accuracy so cancelling training!\")\n",
        "      self.model.stop_training = True"
      ],
      "metadata": {
        "id": "pOk7vGf-qbB9"
      },
      "execution_count": 97,
      "outputs": []
    },
    {
      "cell_type": "code",
      "source": [
        "#Load Fashion Mnist Datasets from Keras\n",
        "mnist = tf.keras.datasets.fashion_mnist"
      ],
      "metadata": {
        "id": "-H6e8tdvTDD4"
      },
      "execution_count": 88,
      "outputs": []
    },
    {
      "cell_type": "code",
      "source": [
        "#Load Datasets into Training Images and Labels\n",
        "(training_images, training_labels), (testing_images, testing_labels) = mnist.load_data()"
      ],
      "metadata": {
        "id": "1xwKaeUsTy5z"
      },
      "execution_count": 89,
      "outputs": []
    },
    {
      "cell_type": "code",
      "source": [
        "#Observing Images in the Dataset\n",
        "import matplotlib.pyplot as plt\n",
        "plt.imshow(training_images[42])\n",
        "print(training_images[42])\n",
        "print(training_labels[42])"
      ],
      "metadata": {
        "id": "HCv9uzvrXwQ8"
      },
      "execution_count": null,
      "outputs": []
    },
    {
      "cell_type": "code",
      "source": [
        "#Normalising Images into 0/1\n",
        "training_images = training_images/255\n",
        "testing_images = testing_images/255"
      ],
      "metadata": {
        "id": "Kq7_QW2hUVTM"
      },
      "execution_count": 91,
      "outputs": []
    },
    {
      "cell_type": "code",
      "source": [
        "#Simple Sequential Model\n",
        "model = tf.keras.Sequential([\n",
        "    tf.keras.layers.Flatten(),\n",
        "    tf.keras.layers.Dense(512, activation = tf.nn.relu),\n",
        "    tf.keras.layers.Dense(10, activation= tf.nn.softmax)\n",
        "])"
      ],
      "metadata": {
        "id": "SGmVIflfUhqd"
      },
      "execution_count": 101,
      "outputs": []
    },
    {
      "cell_type": "code",
      "source": [
        "#Model Compilation\n",
        "model.compile(optimizer='Adam', loss='sparse_categorical_crossentropy', metrics=['accuracy'])"
      ],
      "metadata": {
        "id": "ZMKZa17_VUQH"
      },
      "execution_count": 102,
      "outputs": []
    },
    {
      "cell_type": "code",
      "source": [
        "#Saving the Checkpoint of Training into Google Drive while Training and Calling Two Callbacks\n",
        "\n",
        "checkpoint_path = \"/content/drive/My Drive/AI Basics with Tensorflow/cp.ckpt\"\n",
        "checkpoint_dir = os.path.dirname(checkpoint_path)\n",
        "\n",
        "# Create a callback that saves the model's weights\n",
        "cp_callback = tf.keras.callbacks.ModelCheckpoint(filepath=checkpoint_path,\n",
        "                                                 save_weights_only=True,\n",
        "                                                 verbose=1)\n",
        "\n",
        "callbacks = myCallback()\n",
        "\n",
        "model.fit(training_images, training_labels, epochs=10, callbacks=[cp_callback,callbacks])"
      ],
      "metadata": {
        "id": "55Zif2mVW-9N",
        "colab": {
          "base_uri": "https://localhost:8080/"
        },
        "outputId": "973758fb-8c40-43da-998c-5cb9cdbfa20f"
      },
      "execution_count": 103,
      "outputs": [
        {
          "output_type": "stream",
          "name": "stdout",
          "text": [
            "Epoch 1/10\n",
            "1870/1875 [============================>.] - ETA: 0s - loss: 0.4754 - accuracy: 0.8298\n",
            "Epoch 00001: saving model to /content/drive/My Drive/AI Basics with Tensorflow/cp.ckpt\n",
            "1875/1875 [==============================] - 7s 4ms/step - loss: 0.4752 - accuracy: 0.8298\n",
            "Epoch 2/10\n",
            "1867/1875 [============================>.] - ETA: 0s - loss: 0.3605 - accuracy: 0.8674\n",
            "Epoch 00002: saving model to /content/drive/My Drive/AI Basics with Tensorflow/cp.ckpt\n",
            "1875/1875 [==============================] - 7s 4ms/step - loss: 0.3604 - accuracy: 0.8673\n",
            "Epoch 3/10\n",
            "1874/1875 [============================>.] - ETA: 0s - loss: 0.3253 - accuracy: 0.8796\n",
            "Epoch 00003: saving model to /content/drive/My Drive/AI Basics with Tensorflow/cp.ckpt\n",
            "1875/1875 [==============================] - 7s 4ms/step - loss: 0.3252 - accuracy: 0.8796\n",
            "Epoch 4/10\n",
            "1864/1875 [============================>.] - ETA: 0s - loss: 0.2998 - accuracy: 0.8894\n",
            "Epoch 00004: saving model to /content/drive/My Drive/AI Basics with Tensorflow/cp.ckpt\n",
            "1875/1875 [==============================] - 7s 4ms/step - loss: 0.2998 - accuracy: 0.8893\n",
            "Epoch 5/10\n",
            "1866/1875 [============================>.] - ETA: 0s - loss: 0.2806 - accuracy: 0.8953\n",
            "Epoch 00005: saving model to /content/drive/My Drive/AI Basics with Tensorflow/cp.ckpt\n",
            "1875/1875 [==============================] - 7s 4ms/step - loss: 0.2806 - accuracy: 0.8953\n",
            "Epoch 6/10\n",
            "1873/1875 [============================>.] - ETA: 0s - loss: 0.2631 - accuracy: 0.9022\n",
            "Epoch 00006: saving model to /content/drive/My Drive/AI Basics with Tensorflow/cp.ckpt\n",
            "\n",
            "Reached 90% accuracy so cancelling training!\n",
            "1875/1875 [==============================] - 7s 4ms/step - loss: 0.2631 - accuracy: 0.9022\n"
          ]
        },
        {
          "output_type": "execute_result",
          "data": {
            "text/plain": [
              "<keras.callbacks.History at 0x7f5e37c41490>"
            ]
          },
          "metadata": {},
          "execution_count": 103
        }
      ]
    },
    {
      "cell_type": "code",
      "source": [
        "os.listdir(checkpoint_dir)"
      ],
      "metadata": {
        "colab": {
          "base_uri": "https://localhost:8080/"
        },
        "id": "oU_UBH8tmcPb",
        "outputId": "93f9f66f-3dfb-4577-fcd6-e3642935fd68"
      },
      "execution_count": 104,
      "outputs": [
        {
          "output_type": "execute_result",
          "data": {
            "text/plain": [
              "['Hello World Example.ipynb',\n",
              " '.ipynb_checkpoints',\n",
              " 'FashionMnistClassification.ipynb',\n",
              " 'cp.ckpt.data-00000-of-00001',\n",
              " 'cp.ckpt.index',\n",
              " 'checkpoint']"
            ]
          },
          "metadata": {},
          "execution_count": 104
        }
      ]
    },
    {
      "cell_type": "code",
      "source": [
        "#Evaluate Model\n",
        "model.evaluate(testing_images,testing_labels)"
      ],
      "metadata": {
        "colab": {
          "base_uri": "https://localhost:8080/"
        },
        "id": "EyifcAfiYYwP",
        "outputId": "cd6de70f-7808-4819-e597-5989255fb310"
      },
      "execution_count": 105,
      "outputs": [
        {
          "output_type": "stream",
          "name": "stdout",
          "text": [
            "313/313 [==============================] - 1s 2ms/step - loss: 0.3236 - accuracy: 0.8846\n"
          ]
        },
        {
          "output_type": "execute_result",
          "data": {
            "text/plain": [
              "[0.32361117005348206, 0.8845999836921692]"
            ]
          },
          "metadata": {},
          "execution_count": 105
        }
      ]
    },
    {
      "cell_type": "code",
      "source": [
        "#Load Model from Checkpoint to Save Retraining Time\n",
        "test_model = tf.keras.Sequential([\n",
        "    tf.keras.layers.Flatten(),\n",
        "    tf.keras.layers.Dense(512, activation = tf.nn.relu),\n",
        "    tf.keras.layers.Dense(10, activation= tf.nn.softmax)\n",
        "])\n",
        "\n",
        "test_model.load_weights(checkpoint_path)\n",
        "\n",
        "loss, acc = model.evaluate(testing_images, testing_labels, verbose=2)\n",
        "print(\"Restored model, accuracy: {:5.2f}%\".format(100 * acc))"
      ],
      "metadata": {
        "colab": {
          "base_uri": "https://localhost:8080/"
        },
        "id": "PpfIWj0AmPrP",
        "outputId": "2b3dbeaf-9728-4b00-f378-c109b2b62e5b"
      },
      "execution_count": 106,
      "outputs": [
        {
          "output_type": "stream",
          "name": "stdout",
          "text": [
            "WARNING:tensorflow:Unresolved object in checkpoint: (root).optimizer\n",
            "WARNING:tensorflow:Unresolved object in checkpoint: (root).layer_with_weights-0.kernel\n",
            "WARNING:tensorflow:Unresolved object in checkpoint: (root).layer_with_weights-0.bias\n",
            "WARNING:tensorflow:Unresolved object in checkpoint: (root).layer_with_weights-1.kernel\n",
            "WARNING:tensorflow:Unresolved object in checkpoint: (root).layer_with_weights-1.bias\n",
            "WARNING:tensorflow:Unresolved object in checkpoint: (root).optimizer.iter\n",
            "WARNING:tensorflow:Unresolved object in checkpoint: (root).optimizer.beta_1\n",
            "WARNING:tensorflow:Unresolved object in checkpoint: (root).optimizer.beta_2\n",
            "WARNING:tensorflow:Unresolved object in checkpoint: (root).optimizer.decay\n",
            "WARNING:tensorflow:Unresolved object in checkpoint: (root).optimizer.learning_rate\n",
            "WARNING:tensorflow:Unresolved object in checkpoint: (root).optimizer's state 'm' for (root).layer_with_weights-0.kernel\n",
            "WARNING:tensorflow:Unresolved object in checkpoint: (root).optimizer's state 'm' for (root).layer_with_weights-0.bias\n",
            "WARNING:tensorflow:Unresolved object in checkpoint: (root).optimizer's state 'm' for (root).layer_with_weights-1.kernel\n",
            "WARNING:tensorflow:Unresolved object in checkpoint: (root).optimizer's state 'm' for (root).layer_with_weights-1.bias\n",
            "WARNING:tensorflow:Unresolved object in checkpoint: (root).optimizer's state 'v' for (root).layer_with_weights-0.kernel\n",
            "WARNING:tensorflow:Unresolved object in checkpoint: (root).optimizer's state 'v' for (root).layer_with_weights-0.bias\n",
            "WARNING:tensorflow:Unresolved object in checkpoint: (root).optimizer's state 'v' for (root).layer_with_weights-1.kernel\n",
            "WARNING:tensorflow:Unresolved object in checkpoint: (root).optimizer's state 'v' for (root).layer_with_weights-1.bias\n",
            "WARNING:tensorflow:A checkpoint was restored (e.g. tf.train.Checkpoint.restore or tf.keras.Model.load_weights) but not all checkpointed values were used. See above for specific issues. Use expect_partial() on the load status object, e.g. tf.train.Checkpoint.restore(...).expect_partial(), to silence these warnings, or use assert_consumed() to make the check explicit. See https://www.tensorflow.org/guide/checkpoint#loading_mechanics for details.\n",
            "313/313 - 1s - loss: 0.3236 - accuracy: 0.8846 - 636ms/epoch - 2ms/step\n",
            "Restored model, accuracy: 88.46%\n"
          ]
        }
      ]
    },
    {
      "cell_type": "code",
      "source": [
        "#Evaluate Reloaded Model from GDrive\n",
        "model.evaluate(testing_images,testing_labels)\n",
        "\n",
        "classifications = test_model.predict(testing_images)\n",
        "print(classifications[0]*100)\n",
        "print(testing_labels[0])"
      ],
      "metadata": {
        "id": "TFjm7bapn63J",
        "colab": {
          "base_uri": "https://localhost:8080/"
        },
        "outputId": "ddd6e654-0dae-4277-c5fb-f8e6900096f7"
      },
      "execution_count": 107,
      "outputs": [
        {
          "output_type": "stream",
          "name": "stdout",
          "text": [
            "313/313 [==============================] - 1s 2ms/step - loss: 0.3236 - accuracy: 0.8846\n",
            "[6.2626110e-05 2.6270272e-06 3.3674517e-04 2.7217736e-06 4.8004717e-06\n",
            " 2.9288511e+00 2.1359637e-04 2.8621609e+00 3.4749213e-05 9.4208336e+01]\n",
            "9\n"
          ]
        }
      ]
    }
  ]
}